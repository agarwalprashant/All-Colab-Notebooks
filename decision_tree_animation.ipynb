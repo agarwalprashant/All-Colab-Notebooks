{
 "cells": [
  {
   "cell_type": "markdown",
   "metadata": {},
   "source": [
    "# Decision Tree Max Depth Animation\n",
    "\n",
    "This notebook creates an animation showing how the decision boundary of a DecisionTreeClassifier changes as the `max_depth` parameter increases."
   ]
  },
  {
   "cell_type": "code",
   "execution_count": null,
   "metadata": {},
   "outputs": [],
   "source": [
    "import numpy as np\n",
    "import matplotlib.pyplot as plt\n",
    "from matplotlib.animation import FuncAnimation\n",
    "from sklearn.tree import DecisionTreeClassifier\n",
    "from sklearn.datasets import make_moons, make_circles, make_classification\n",
    "from sklearn.preprocessing import StandardScaler\n",
    "from IPython.display import HTML"
   ]
  },
  {
   "cell_type": "markdown",
   "metadata": {},
   "source": [
    "## Generate Dataset\n",
    "\n",
    "First, let's create datasets for our visualization. We'll create three different types of datasets: linearly separable, moons, and circles."
   ]
  },
  {
   "cell_type": "code",
   "execution_count": null,
   "metadata": {},
   "outputs": [],
   "source": [
    "# Set random state for reproducibility\n",
    "random_state = 42\n",
    "\n",
    "# Generate datasets\n",
    "# Linearly separable dataset\n",
    "X_linear, y_linear = make_classification(\n",
    "    n_samples=300, n_features=2, n_redundant=0, n_informative=2,\n",
    "    random_state=random_state, n_clusters_per_class=1, class_sep=0.8\n",
    ")\n",
    "\n",
    "# Moons dataset\n",
    "X_moons, y_moons = make_moons(n_samples=300, noise=0.1, random_state=random_state)\n",
    "\n",
    "# Circles dataset\n",
    "X_circles, y_circles = make_circles(n_samples=300, noise=0.1, random_state=random_state, factor=0.5)"
   ]
  },
  {
   "cell_type": "markdown",
   "metadata": {},
   "source": [
    "## Visualize the datasets"
   ]
  },
  {
   "cell_type": "code",
   "execution_count": null,
   "metadata": {},
   "outputs": [],
   "source": [
    "# Plot all datasets\n",
    "fig, axes = plt.subplots(1, 3, figsize=(15, 5))\n",
    "\n",
    "datasets = [\n",
    "    (X_linear, y_linear, \"Linearly Separable\"),\n",
    "    (X_moons, y_moons, \"Moons\"),\n",
    "    (X_circles, y_circles, \"Circles\")\n",
    "]\n",
    "\n",
    "for ax, (X, y, title) in zip(axes, datasets):\n",
    "    ax.scatter(X[:, 0], X[:, 1], c=y, cmap=plt.cm.RdBu_r, edgecolors='k')\n",
    "    ax.set_title(title)\n",
    "    ax.set_xlabel('Feature 1')\n",
    "    ax.set_ylabel('Feature 2')\n",
    "\n",
    "plt.tight_layout()\n",
    "plt.show()"
   ]
  },
  {
   "cell_type": "markdown",
   "metadata": {},
   "source": [
    "## Create Animation Function\n",
    "\n",
    "Now, let's create a function to generate an animation that shows how the decision boundary changes as the max_depth parameter increases."
   ]
  },
  {
   "cell_type": "code",
   "metadata": {},
   "outputs": [],
   "source": "def create_decision_boundary_animation(X, y, max_depths=range(1, 11), interval=500, dataset_name=\"Dataset\"):\n    # Scale the features\n    scaler = StandardScaler()\n    X_scaled = scaler.fit_transform(X)\n    \n    # Create a meshgrid\n    h = 0.02  # Step size in the mesh\n    x_min, x_max = X_scaled[:, 0].min() - 1, X_scaled[:, 0].max() + 1\n    y_min, y_max = X_scaled[:, 1].min() - 1, X_scaled[:, 1].max() + 1\n    xx, yy = np.meshgrid(np.arange(x_min, x_max, h), np.arange(y_min, y_max, h))\n    \n    # Create figure and axis\n    fig, ax = plt.subplots(figsize=(10, 8))\n    \n    # Initialize scatter plot for data points\n    scatter = ax.scatter(X_scaled[:, 0], X_scaled[:, 1], c=y, cmap=plt.cm.RdBu_r, edgecolors='k')\n    \n    # Initialize model with first max_depth and get initial boundary\n    model_init = DecisionTreeClassifier(max_depth=max_depths[0], random_state=random_state)\n    model_init.fit(X_scaled, y)\n    Z_init = model_init.predict(np.c_[xx.ravel(), yy.ravel()]).reshape(xx.shape)\n    \n    # Initialize contour for decision boundary\n    contourf_object = ax.contourf(xx, yy, Z_init, alpha=0.3, levels=np.linspace(0, 1, 3), cmap=plt.cm.RdBu)\n    \n    # Title with parameter info\n    title = ax.set_title(f\"{dataset_name} - max_depth: {max_depths[0]}\")\n    \n    # Stats text\n    n_nodes_init = model_init.tree_.node_count\n    n_leaves_init = model_init.tree_.n_leaves\n    depth_init = model_init.tree_.max_depth\n    accuracy_init = model_init.score(X_scaled, y)\n    \n    stats_text = ax.text(0.02, 0.02, \n                        f'Nodes: {n_nodes_init}\\nLeaves: {n_leaves_init}\\nDepth: {depth_init}\\nAccuracy: {accuracy_init:.2f}', \n                        transform=ax.transAxes, \n                        bbox=dict(boxstyle=\"round,pad=0.3\", fc=\"white\", alpha=0.8))\n    \n    ax.set_xlabel('Feature 1')\n    ax.set_ylabel('Feature 2')\n    \n    # Animation update function\n    def update(frame):\n        # Declare variables from outer scope that will be modified\n        nonlocal contourf_object\n        \n        max_depth = max_depths[frame]\n        \n        # Train model with the current max_depth\n        model = DecisionTreeClassifier(max_depth=max_depth, random_state=random_state)\n        model.fit(X_scaled, y)\n        \n        # Get predictions for each point in the meshgrid\n        Z = model.predict(np.c_[xx.ravel(), yy.ravel()])\n        Z = Z.reshape(xx.shape)\n        \n        # Clear previous contour collections\n        for c in contourf_object.collections:\n            c.remove()\n            \n        # Create new contour plot\n        contourf_object = ax.contourf(xx, yy, Z, alpha=0.3, levels=np.linspace(0, 1, 3), cmap=plt.cm.RdBu)\n        \n        # Update title\n        title.set_text(f\"{dataset_name} - max_depth: {max_depth}\")\n        \n        # Get tree complexity metrics\n        n_nodes = model.tree_.node_count\n        n_leaves = model.tree_.n_leaves\n        depth = model.tree_.max_depth\n        accuracy = model.score(X_scaled, y)\n        \n        # Update stats text\n        stats_text.set_text(f'Nodes: {n_nodes}\\nLeaves: {n_leaves}\\nDepth: {depth}\\nAccuracy: {accuracy:.2f}')\n        \n        return [title, stats_text]\n    \n    # Create animation\n    anim = FuncAnimation(fig, update, frames=len(max_depths), interval=interval, blit=True)\n    \n    plt.close()  # Prevent double display in notebook\n    \n    return anim"
  },
  {
   "cell_type": "markdown",
   "metadata": {},
   "source": [
    "## Generate Animations for Each Dataset\n",
    "\n",
    "Now let's create and display animations for each of our datasets."
   ]
  },
  {
   "cell_type": "code",
   "execution_count": null,
   "metadata": {},
   "outputs": [],
   "source": [
    "# Create animation for linearly separable dataset\n",
    "anim_linear = create_decision_boundary_animation(X_linear, y_linear, max_depths=range(1, 11), dataset_name=\"Linearly Separable\")\n",
    "HTML(anim_linear.to_jshtml())"
   ]
  },
  {
   "cell_type": "code",
   "execution_count": null,
   "metadata": {},
   "outputs": [],
   "source": [
    "# Create animation for moons dataset\n",
    "anim_moons = create_decision_boundary_animation(X_moons, y_moons, max_depths=range(1, 11), dataset_name=\"Moons\")\n",
    "HTML(anim_moons.to_jshtml())"
   ]
  },
  {
   "cell_type": "code",
   "execution_count": null,
   "metadata": {},
   "outputs": [],
   "source": [
    "# Create animation for circles dataset\n",
    "anim_circles = create_decision_boundary_animation(X_circles, y_circles, max_depths=range(1, 11), dataset_name=\"Circles\")\n",
    "HTML(anim_circles.to_jshtml())"
   ]
  },
  {
   "cell_type": "markdown",
   "metadata": {},
   "source": [
    "## Save Animations (Optional)\n",
    "\n",
    "You can save the animations as GIF files if you want to use them elsewhere."
   ]
  },
  {
   "cell_type": "code",
   "execution_count": null,
   "metadata": {},
   "outputs": [],
   "source": [
    "# Uncomment the code below if you want to save the animations\n",
    "\n",
    "# Try to save animations as GIFs if pillow is installed\n",
    "try:\n",
    "    # Save animations\n",
    "    anim_linear.save('linear_max_depth_animation.gif', writer='pillow', fps=2)\n",
    "    anim_moons.save('moons_max_depth_animation.gif', writer='pillow', fps=2)\n",
    "    anim_circles.save('circles_max_depth_animation.gif', writer='pillow', fps=2)\n",
    "    print(\"Animations saved as GIFs.\")\n",
    "except Exception as e:\n",
    "    print(f\"Could not save animations: {e}\")\n",
    "    print(\"You may need to install additional dependencies like 'pillow'.\")"
   ]
  },
  {
   "cell_type": "markdown",
   "metadata": {},
   "source": [
    "## Observations\n",
    "\n",
    "From these animations, we can observe:\n",
    "\n",
    "1. **Linearly Separable Data**: Even a tree with a small max_depth can find a good decision boundary for linearly separable data. As the max_depth increases, the boundary gets more complex but may not significantly improve accuracy.\n",
    "\n",
    "2. **Moons Data**: This non-linear pattern requires a deeper tree to capture the curved decision boundary. Too shallow trees cannot model the curved shape correctly.\n",
    "\n",
    "3. **Circles Data**: This is the most complex pattern and requires the deepest tree to approximate the circular decision boundary properly.\n",
    "\n",
    "**Overfitting vs. Underfitting**:\n",
    "- Small max_depth: The model can underfit, failing to capture the data's true pattern\n",
    "- Large max_depth: The model might overfit, creating an overly complex decision boundary that performs well on training data but may not generalize well to new data\n",
    "\n",
    "The animations visually demonstrate how the max_depth parameter directly controls the complexity of the decision tree model."
   ]
  }
 ],
 "metadata": {
  "kernelspec": {
   "display_name": "Python 3",
   "language": "python",
   "name": "python3"
  },
  "language_info": {
   "codemirror_mode": {
    "name": "ipython",
    "version": 3
   },
   "file_extension": ".py",
   "mimetype": "text/x-python",
   "name": "python",
   "nbconvert_exporter": "python",
   "pygments_lexer": "ipython3",
   "version": "3.8.8"
  }
 },
 "nbformat": 4,
 "nbformat_minor": 4
}